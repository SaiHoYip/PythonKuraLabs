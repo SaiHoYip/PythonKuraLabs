{
  "nbformat": 4,
  "nbformat_minor": 0,
  "metadata": {
    "anaconda-cloud": {},
    "kernelspec": {
      "name": "python3",
      "display_name": "Python 3"
    },
    "colab": {
      "name": "Day3PracticeSai",
      "provenance": [],
      "collapsed_sections": []
    },
    "language_info": {
      "name": "python"
    }
  },
  "cells": [
    {
      "cell_type": "markdown",
      "metadata": {
        "id": "7XOVmCs1klhH"
      },
      "source": [
        "<img src=\"https://i.imgur.com/X9R3e67.png\" style=\"float: left; margin: 20px; height: 55px\">\n",
        "\n",
        "## Practice Python Functions\n",
        "\n",
        "\n",
        "---"
      ]
    },
    {
      "cell_type": "code",
      "metadata": {
        "id": "f2AcAhmO4cnI"
      },
      "source": [
        "def printMyName"
      ],
      "execution_count": null,
      "outputs": []
    },
    {
      "cell_type": "markdown",
      "metadata": {
        "id": "gm8VPXYRklhL"
      },
      "source": [
        "### Resources - Potentially Helpful Functions\n",
        "\n",
        "* [Python exercises](https://learnpythonthehardway.org/book/)\n",
        "* [Dictionary Comprehension](https://docs.python.org/2/tutorial/datastructures.html#dictionaries)\n",
        "* [Enumerate](https://docs.python.org/2/library/functions.html#enumerate)\n",
        "* [Length](https://docs.python.org/2/library/functions.html#len)\n",
        "* [Int](https://docs.python.org/2/library/functions.html#int)\n",
        "* [List](https://docs.python.org/2/library/functions.html#list)"
      ]
    },
    {
      "cell_type": "markdown",
      "metadata": {
        "id": "s99Z9U-pklhN"
      },
      "source": [
        "---\n",
        "\n",
        "### 1. Write a function that takes the length of a side of a square as an argument and returns the area of the square."
      ]
    },
    {
      "cell_type": "code",
      "metadata": {
        "id": "SAz9y5iPklhO",
        "colab": {
          "base_uri": "https://localhost:8080/"
        },
        "outputId": "ed35aadf-c1d0-477d-f254-ce069e5360ba"
      },
      "source": [
        "# A:\n",
        "def square(length):\n",
        "  return length ** 2\n",
        "\n",
        "square(4)"
      ],
      "execution_count": null,
      "outputs": [
        {
          "output_type": "execute_result",
          "data": {
            "text/plain": [
              "16"
            ]
          },
          "metadata": {
            "tags": []
          },
          "execution_count": 6
        }
      ]
    },
    {
      "cell_type": "markdown",
      "metadata": {
        "id": "6_XjAYxEklhO"
      },
      "source": [
        "---\n",
        "\n",
        "### 2. Write a function that takes the heigth and width of a triangle and returns the area."
      ]
    },
    {
      "cell_type": "code",
      "metadata": {
        "id": "-GWyJofZklhP",
        "colab": {
          "base_uri": "https://localhost:8080/"
        },
        "outputId": "716f798b-ace3-4e04-e1df-84e4ca8871fa"
      },
      "source": [
        "# A:\n",
        "def triangle(heigth, width):\n",
        "  area = heigth * width\n",
        "  return area\n",
        "\n",
        "triangle(2,3)"
      ],
      "execution_count": null,
      "outputs": [
        {
          "output_type": "execute_result",
          "data": {
            "text/plain": [
              "6"
            ]
          },
          "metadata": {
            "tags": []
          },
          "execution_count": 7
        }
      ]
    },
    {
      "cell_type": "markdown",
      "metadata": {
        "id": "7fCPl3uhklhQ"
      },
      "source": [
        "---\n",
        "\n",
        "### 3. Write a function that takes a string as an argument and returns a tuple consisting of two elements:\n",
        "- **A list of all the characters in the string.** \n",
        "- **A count of the number of characters in the string.**"
      ]
    },
    {
      "cell_type": "code",
      "metadata": {
        "id": "zb_YkaIaklhQ",
        "colab": {
          "base_uri": "https://localhost:8080/"
        },
        "outputId": "3989d911-4028-4867-c2fd-25a28ef7077b"
      },
      "source": [
        "# A:\n",
        "def tup(d):\n",
        "  li = []\n",
        "  li += d\n",
        "  count = 0\n",
        "  for i in range(len(li)):\n",
        "    count += 1\n",
        "  return li,count\n",
        "print(tup('dog'))\n",
        "type(tup('dog'))"
      ],
      "execution_count": 11,
      "outputs": [
        {
          "output_type": "stream",
          "text": [
            "(['d', 'o', 'g'], 3)\n"
          ],
          "name": "stdout"
        },
        {
          "output_type": "execute_result",
          "data": {
            "text/plain": [
              "tuple"
            ]
          },
          "metadata": {
            "tags": []
          },
          "execution_count": 11
        }
      ]
    },
    {
      "cell_type": "markdown",
      "metadata": {
        "id": "waBcnbOQklhR"
      },
      "source": [
        "---\n",
        "\n",
        "### 4. Write a function that takes two integers, passed as strings, and returns the sum, difference, and product as a tuple (all values as integers)."
      ]
    },
    {
      "cell_type": "code",
      "metadata": {
        "id": "Pnt8zQt9klhR",
        "colab": {
          "base_uri": "https://localhost:8080/"
        },
        "outputId": "217d6a16-6e81-4a7c-a3a5-81109dbe7a7a"
      },
      "source": [
        "def two (A, B):\n",
        "  sum = A+B\n",
        "  diff = A-B\n",
        "  product = A*B\n",
        "  return (sum, diff, product)\n",
        "\n",
        "print(two(1,3))\n",
        "type(two(1,3))\n"
      ],
      "execution_count": null,
      "outputs": [
        {
          "output_type": "stream",
          "text": [
            "(4, -2, 3)\n"
          ],
          "name": "stdout"
        },
        {
          "output_type": "execute_result",
          "data": {
            "text/plain": [
              "tuple"
            ]
          },
          "metadata": {
            "tags": []
          },
          "execution_count": 22
        }
      ]
    },
    {
      "cell_type": "markdown",
      "metadata": {
        "id": "W1asHH6tklhS"
      },
      "source": [
        "**bold text**---\n",
        "\n",
        "### 5. Write a function that takes a list as the argument and returns a tuple consisting of two elements:\n",
        "- **A list with the items in reverse order.**  \n",
        "- **A list of the items in the original list that have an odd index.**"
      ]
    },
    {
      "cell_type": "code",
      "metadata": {
        "id": "SzLDdU0KklhS",
        "colab": {
          "base_uri": "https://localhost:8080/"
        },
        "outputId": "bc8311fa-6c34-4f8b-8281-5a9659def462"
      },
      "source": [
        "#tuple inside a tuple\n",
        "def tup(somelist):\n",
        "  elem = ()\n",
        "  two = []\n",
        "  convert = []\n",
        "  for i in range(0,len(somelist),1):\n",
        "    two += [(somelist[i],i)]\n",
        "  for t in range(0,len(two),1):\n",
        "    elem += (two[t],)\n",
        "\n",
        "  return elem\n",
        "      \n",
        "\n",
        "myList = [3,4,5,6]\n",
        "print(tup(myList))\n",
        "print(type(tup(myList)))"
      ],
      "execution_count": null,
      "outputs": [
        {
          "output_type": "stream",
          "text": [
            "((3, 0), (4, 1), (5, 2), (6, 3))\n",
            "<class 'tuple'>\n"
          ],
          "name": "stdout"
        }
      ]
    },
    {
      "cell_type": "code",
      "metadata": {
        "colab": {
          "base_uri": "https://localhost:8080/"
        },
        "id": "YkVvzkUAieEq",
        "outputId": "fbaaf6ff-4072-47b1-f0fb-96cbe5e12796"
      },
      "source": [
        "#reverse order\n",
        "myList = [3,4,5,6]\n",
        "def reversedList(someList):\n",
        "  reverse = []\n",
        "  for t in range(len(someList)-1,-1,-1):\n",
        "      reverse.append(someList[t])\n",
        "  return reverse \n",
        "\n",
        "print(reversedList(myList))\n"
      ],
      "execution_count": null,
      "outputs": [
        {
          "output_type": "stream",
          "text": [
            "[6, 5, 4, 3]\n"
          ],
          "name": "stdout"
        }
      ]
    },
    {
      "cell_type": "code",
      "metadata": {
        "colab": {
          "base_uri": "https://localhost:8080/"
        },
        "id": "5cesQUFHrVij",
        "outputId": "7a14646e-34c1-46e5-a430-4c247cf204ff"
      },
      "source": [
        "#oddIndex\n",
        "myList = [3,4,5,6]\n",
        "def odd(someList):\n",
        "  oddIndex = []\n",
        "  for t in range(len(someList)):\n",
        "    if t%2 != 0:\n",
        "      oddIndex.append(someList[t])\n",
        "  return oddIndex\n",
        "print(odd(myList))\n"
      ],
      "execution_count": null,
      "outputs": [
        {
          "output_type": "stream",
          "text": [
            "[4, 6]\n"
          ],
          "name": "stdout"
        }
      ]
    },
    {
      "cell_type": "markdown",
      "metadata": {
        "id": "rANcbrNMklhT"
      },
      "source": [
        "---\n",
        "\n",
        "### Optional Challenge Problem: Write a function that returns the score for a word.  The score of the word is the sum of the scores of its letters. Each letter's score is equal to it's position in the alphabet.\n",
        "\n",
        "So, for example:\n",
        "\n",
        "* A = 1, B = 2, C = 3, D = 4, E = 5\n",
        "* abe = 8 = (1 + 2 + 5)\n",
        "\n",
        "\n",
        "_Hint: The string library has a property_ `ascii_lowercase` _that can save some typing here._\n"
      ]
    },
    {
      "cell_type": "code",
      "metadata": {
        "collapsed": true,
        "id": "v0dnksYxklhT",
        "colab": {
          "base_uri": "https://localhost:8080/"
        },
        "outputId": "b077cb50-c610-447e-aef0-64385735863d"
      },
      "source": [
        "# A:\n",
        "import string\n",
        "def tracker(words): \n",
        "  words.lower()\n",
        "  score = 0\n",
        "  Alphabet = {}\n",
        "  result = string.ascii_lowercase\n",
        "  for t in range(len(result)):\n",
        "    Alphabet[result[t]] = t\n",
        "  for a in range(len(words)):\n",
        "    for t in range(0,len(result),1):\n",
        "      if words[a] == result[t]:\n",
        "        score += Alphabet[words[a]] + 1\n",
        "  return score\n",
        "\n",
        "#4 + 15 + 7 = 26\n",
        "print('your score:',tracker('dog'))\n"
      ],
      "execution_count": 5,
      "outputs": [
        {
          "output_type": "stream",
          "text": [
            "your score: 26\n"
          ],
          "name": "stdout"
        }
      ]
    }
  ]
}