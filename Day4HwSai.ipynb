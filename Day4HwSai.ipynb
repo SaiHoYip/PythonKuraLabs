{
  "nbformat": 4,
  "nbformat_minor": 0,
  "metadata": {
    "colab": {
      "name": "Day4HwSai",
      "provenance": []
    },
    "kernelspec": {
      "name": "python3",
      "display_name": "Python 3"
    },
    "language_info": {
      "name": "python"
    }
  },
  "cells": [
    {
      "cell_type": "markdown",
      "metadata": {
        "id": "4qUaQvz9uzuU"
      },
      "source": [
        ""
      ]
    },
    {
      "cell_type": "markdown",
      "metadata": {
        "id": "Vw_1I0Cmt737"
      },
      "source": [
        "1. Create a Circle class and intialize it with radius. Make two methods getArea and getCircumference inside this class."
      ]
    },
    {
      "cell_type": "code",
      "metadata": {
        "id": "6_KOFCXmNKqu",
        "colab": {
          "base_uri": "https://localhost:8080/"
        },
        "outputId": "82ed9ca7-2156-4270-c7c2-ba0773375d49"
      },
      "source": [
        "#Global anything declared here is global by default \n",
        "#Python will check here for global variables if it cannot find it locally\n",
        "#Indentation is really important in Python!\n",
        "#this value is accessible anywhere\n",
        "value = 990\n",
        "def example():\n",
        "  #local\n",
        "  #this variables value does not exist globally only accessable by local\n",
        "  value = 300\n",
        "  print(value)\n",
        "  #function inside a function or \"nested function\"\n",
        "  def inside():\n",
        "    #local any variables created here are not accessible globally unless specified\n",
        "    print(value)\n",
        "  inside()\n",
        "\n",
        "class Dog:\n",
        "  '''any object I create with the class dog will gain attributes/functions that become local to the object'''\n",
        "  color = 'green'\n",
        "  number = 3\n",
        "  def bark(self): \n",
        "    print('Woof Woof')\n",
        "\n",
        "\n",
        "#for a in range(1):\n",
        "#  variable = 3\n",
        "\n",
        "print(value) #will print the global value\n",
        "example() #will give the local value\n",
        "\n",
        "Dog1 = Dog() #assigning the class Dog to the variable Dog1\n",
        "Dog2 = Dog()\n",
        "\n",
        "print(id(Dog))\n",
        "print(id(Dog1)) #these are all different objects\n",
        "print(id(Dog2))"
      ],
      "execution_count": null,
      "outputs": [
        {
          "output_type": "stream",
          "text": [
            "990\n",
            "300\n",
            "300\n",
            "94625092344416\n",
            "139722571133456\n"
          ],
          "name": "stdout"
        },
        {
          "output_type": "execute_result",
          "data": {
            "text/plain": [
              "139722751792720"
            ]
          },
          "metadata": {
            "tags": []
          },
          "execution_count": 30
        }
      ]
    },
    {
      "cell_type": "code",
      "metadata": {
        "colab": {
          "base_uri": "https://localhost:8080/"
        },
        "id": "LWhpiYLU1s_u",
        "outputId": "852e7b03-d3bc-4950-8d97-657c0ee15d77"
      },
      "source": [
        "'''global can be used to tell python the variable you create will be global so it can be accessed anywhere and wont just \n",
        "exist within the function/locally.'''\n",
        "global dog \n",
        "dog = 4\n",
        "def retValue():\n",
        "  global NewValue\n",
        "  NewValue = 300\n",
        "  print(dog) \n",
        "\n",
        "GlobValue = NewValue - 2\n",
        "print(NewValue)\n",
        "retValue()\n"
      ],
      "execution_count": null,
      "outputs": [
        {
          "output_type": "stream",
          "text": [
            "297\n",
            "4\n"
          ],
          "name": "stdout"
        }
      ]
    },
    {
      "cell_type": "code",
      "metadata": {
        "colab": {
          "base_uri": "https://localhost:8080/"
        },
        "id": "a_FB5h7OQT3A",
        "outputId": "5642d080-06bd-40c6-b147-583da2bd2c71"
      },
      "source": [
        "#Global\n",
        "dog = 3\n",
        "class exampleSelf():\n",
        "  #global\n",
        "  def __init__(self):\n",
        "    #local\n",
        "    pass\n",
        "  def call(self):\n",
        "    #local\n",
        "    variable = 22\n",
        "    print(dog)\n",
        "    print(variable)\n",
        "cat = exampleSelf()\n",
        "catObj = exampleSelf()\n",
        "print(id(exampleSelf()))\n",
        "print(id(catObj))\n",
        "print(id(cat))\n",
        "cat.call()"
      ],
      "execution_count": null,
      "outputs": [
        {
          "output_type": "stream",
          "text": [
            "140423253191568\n",
            "140423253192272\n",
            "140423253190032\n",
            "3\n",
            "22\n"
          ],
          "name": "stdout"
        }
      ]
    },
    {
      "cell_type": "code",
      "metadata": {
        "colab": {
          "base_uri": "https://localhost:8080/"
        },
        "id": "cNLLzn4Ogqpb",
        "outputId": "814983ad-8c71-4b6f-80e1-1139aa0c96f5"
      },
      "source": [
        "#Same concept as global/local\n",
        "def side():\n",
        "  encap = 33\n",
        "  def lost():\n",
        "    encap = 5\n",
        "    print(encap)\n",
        "  lost()\n",
        "side()"
      ],
      "execution_count": null,
      "outputs": [
        {
          "output_type": "stream",
          "text": [
            "5\n"
          ],
          "name": "stdout"
        }
      ]
    },
    {
      "cell_type": "code",
      "metadata": {
        "id": "Z0I53oRTug3G",
        "colab": {
          "base_uri": "https://localhost:8080/"
        },
        "outputId": "bb1b4cd8-cd25-40ad-c253-c0fae8a26203"
      },
      "source": [
        "#global\n",
        "radius = 2\n",
        "class Circle:\n",
        "  def __init__(self):\n",
        "    pass\n",
        "  def getArea(self):\n",
        "    return 3.14 * radius**2\n",
        "  def getCircumference(self):\n",
        "    return (3.14 * 2) * radius \n",
        "CircleObj = Circle()\n",
        "CircleObj.getArea()\n",
        "CircleObj.getCircumference()"
      ],
      "execution_count": null,
      "outputs": [
        {
          "output_type": "execute_result",
          "data": {
            "text/plain": [
              "12.56"
            ]
          },
          "metadata": {
            "tags": []
          },
          "execution_count": 147
        }
      ]
    },
    {
      "cell_type": "markdown",
      "metadata": {
        "id": "p4Nqi8_mt8C0"
      },
      "source": [
        "2. Create a Temperature class. Make two methods :\n",
        "a. convertFahrenheit - It will take celsius and will print it into Fahrenheit.\n",
        "b. convertCelsius - It will take Fahrenheit and will convert it into Celsius."
      ]
    },
    {
      "cell_type": "code",
      "metadata": {
        "id": "DlOy4145uxsc",
        "colab": {
          "base_uri": "https://localhost:8080/"
        },
        "outputId": "46fdff32-7d21-4f2c-a93f-7964152011da"
      },
      "source": [
        "class Temperature:\n",
        "  def __init__(self):\n",
        "    pass\n",
        "  def convertFahrenheit(self, celsius):\n",
        "    fahrenheit = (celsius * 1.8) + 32\n",
        "    print(f'Fahrenheit: {fahrenheit}')\n",
        "  def convertCelsius(self, fahrenheit):\n",
        "    celsius = (fahrenheit - 32)/1.8\n",
        "    print(f\"Celsius = {round(celsius, 2)}\")\n",
        "TempObj = Temperature()\n",
        "TempObj.convertFahrenheit(33)\n",
        "TempObj.convertCelsius(35)"
      ],
      "execution_count": null,
      "outputs": [
        {
          "output_type": "stream",
          "text": [
            "Fahrenheit: 91.4\n",
            "Celsius = 1.67\n"
          ],
          "name": "stdout"
        }
      ]
    },
    {
      "cell_type": "code",
      "metadata": {
        "colab": {
          "base_uri": "https://localhost:8080/"
        },
        "id": "hrLwRwVomDGr",
        "outputId": "cd09855d-e76b-4938-dd57-73a2e00d38c0"
      },
      "source": [
        "def hello():\n",
        "  print('hello')\n",
        "  return 3\n",
        "  print('three')\n",
        "def exampleReturn():\n",
        "  return 3\n",
        "  print('hello')\n",
        "hello()"
      ],
      "execution_count": null,
      "outputs": [
        {
          "output_type": "stream",
          "text": [
            "hello\n"
          ],
          "name": "stdout"
        },
        {
          "output_type": "execute_result",
          "data": {
            "text/plain": [
              "3"
            ]
          },
          "metadata": {
            "tags": []
          },
          "execution_count": 86
        }
      ]
    },
    {
      "cell_type": "markdown",
      "metadata": {
        "id": "TGHkRQdQt8K1"
      },
      "source": [
        "3. Create a Student class and initialize it with name and roll number. Make methods to :\n",
        "\n",
        "Display - It should display all informations of the student.\n",
        "setAge - It should assign age to student\n",
        "setMarks - It should assign marks to the student."
      ]
    },
    {
      "cell_type": "code",
      "metadata": {
        "id": "juv81e5ZuvZz",
        "colab": {
          "base_uri": "https://localhost:8080/"
        },
        "outputId": "6ec1bbc9-9078-470e-b82f-094e3e28f9ed"
      },
      "source": [
        "import random\n",
        "class Student: \n",
        "  def __init__(self,name,roll_number):\n",
        "    self.name = name\n",
        "    self.roll_number = roll_number\n",
        "  def Display(self):\n",
        "    setAge = random.randint(5,30)\n",
        "    marks = random.randint(50,100)\n",
        "    print(f''' Student Information\n",
        "     Student name is: {name}\n",
        "     Student roll number is: {roll_number}\n",
        "     Student age is: {setAge}\n",
        "     Student marks is: {marks}''')\n",
        "  def setMarks(self):\n",
        "    marks = random.randint(0,100)\n",
        "    print(f'''\n",
        "    Student mark is: {marks}\n",
        "    ''')\n",
        "name = 'Sai'\n",
        "roll_number = 3\n",
        "studentObj = Student(name, roll_number)\n",
        "studentObj.Display()"
      ],
      "execution_count": null,
      "outputs": [
        {
          "output_type": "stream",
          "text": [
            " Student Information\n",
            "     Student name is: Sai\n",
            "     Student roll number is: 3\n",
            "     Student age is: 26\n",
            "     Student marks is: 99\n"
          ],
          "name": "stdout"
        }
      ]
    },
    {
      "cell_type": "markdown",
      "metadata": {
        "id": "2HgbNzoxt81f"
      },
      "source": [
        "4. Create a Time class and initialize it with hours and minutes.\n",
        "\n",
        "Make a method addTime which should take two time object and add them. E.g.- (2 hour and 50 min)+(1 hr and 20 min) is (4 hr and 10 min)\n",
        "Make a method displayTime which should print the time.\n",
        "Make a method DisplayMinute which should display the total minutes in the Time. E.g.- (1 hr 2 min) should display 62 minute."
      ]
    },
    {
      "cell_type": "code",
      "metadata": {
        "id": "9iJNoOlQum-u",
        "colab": {
          "base_uri": "https://localhost:8080/"
        },
        "outputId": "b0d282d7-311b-459a-a2e3-876fa8335585"
      },
      "source": [
        "class Time:\n",
        "  def __init__(self,hours,minutes):\n",
        "    self.hours = hours\n",
        "    self.minutes = minutes\n",
        "  def addTime(self):\n",
        "    UserHour = int(input('Enter a time in hour: '))\n",
        "    UserMinute = int(input('Enter a time in minutes: '))\n",
        "    check = True\n",
        "    while (check == True):\n",
        "      if UserMinute > 60 or UserMinute == 60:\n",
        "        UserHour += 1\n",
        "        UserMinute -= 60\n",
        "      else:\n",
        "        new_hour = self.hours + UserHour\n",
        "        new_minute = self.minutes + UserMinute\n",
        "        check = False\n",
        "    print(f'adding {hours} hours and {minutes} minutes to current time and you get {new_hour}hr:{new_minute}minute')\n",
        "  def displayTime(self):\n",
        "    print(f'The time is currently: {hour}:{minute} ')\n",
        "  def displayMinute(self):\n",
        "    minutesIntime = (hours * 60) + minutes\n",
        "    print(f'the total minutes in the time: {minutesIntime} minutes')\n",
        "TimeObj = Time(6,20)\n",
        "TimeObj.addTime()\n",
        "TimeObj.displayMinute()"
      ],
      "execution_count": null,
      "outputs": [
        {
          "output_type": "stream",
          "text": [
            "Enter a time in hour: 3\n",
            "Enter a time in minutes: 300\n",
            "adding 6 hours and 50 minutes to current time and you get 14hr:20minute\n",
            "the total minutes in the time: 410 minutes\n"
          ],
          "name": "stdout"
        }
      ]
    },
    {
      "cell_type": "code",
      "metadata": {
        "id": "Nim5lmEVWaRF"
      },
      "source": [
        ""
      ],
      "execution_count": null,
      "outputs": []
    }
  ]
}