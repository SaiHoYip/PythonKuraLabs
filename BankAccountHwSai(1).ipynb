{
  "nbformat": 4,
  "nbformat_minor": 0,
  "metadata": {
    "colab": {
      "name": "BankAccountHwSai",
      "provenance": [],
      "collapsed_sections": []
    },
    "kernelspec": {
      "display_name": "Python 3",
      "name": "python3"
    },
    "language_info": {
      "name": "python"
    }
  },
  "cells": [
    {
      "cell_type": "code",
      "metadata": {
        "colab": {
          "background_save": true,
          "base_uri": "https://localhost:8080/"
        },
        "id": "DVYxcRAMs-wQ",
        "outputId": "f6faf280-a250-4fca-f228-f4a639c69b67"
      },
      "source": [
        "from pprint import pprint\n",
        "class BankAccount:\n",
        "  Withdrawn = {}\n",
        "  Deposited = {}\n",
        "  container = []\n",
        "\n",
        "  def __init__(self,account_number,balance,name):\n",
        "    self.account_number = account_number\n",
        "    self.balance = balance\n",
        "    self.name = name\n",
        "  def deposit(self):\n",
        "    print(f'Your current balance {self.balance}')\n",
        "    depositing = float(input('How much do you want to deposit into your account?: '))\n",
        "    self.balance += depositing\n",
        "    self.Deposited[\"Deposit\"] = depositing\n",
        "    self.container.append(self.Deposited.copy())\n",
        "    print(f'Your new balance is: {self.balance} \\n')\n",
        "  def withdraw(self):\n",
        "    print(f'Your current balance: {self.balance}')\n",
        "    withdrawl = float(input('How much do you want to withdraw from your account?: '))\n",
        "    self.balance -= withdrawl\n",
        "    self.Withdrawn[\"Withdrawl\"] = withdrawl\n",
        "    self.container.append(self.Withdrawn.copy())\n",
        "    print(f'Your new balance is {self.balance} \\n')\n",
        "  def get_balance(self):\n",
        "    print(f'Your current balance is {self.balance}')\n",
        "  def transaction(self):\n",
        "    holder = [f for f in self.container] \n",
        "    pprint(holder, width = 1)\n",
        "  def transfer(self):\n",
        "    pass\n",
        "\n",
        "#Accounts = {\"Sai\":2000}, {\"Square\":1000}, {\"Rectangle\":200} Not yet implemented\n",
        "\n",
        "Identity = False\n",
        "while (Identity == False):\n",
        "  UserInputName = input('What is your name? (enter q to quit): ')\n",
        "  UserAccount = int(input('What is your account number?: '))\n",
        "  if UserInputName == 'Sai' and UserAccount == 1:\n",
        "    Action = True\n",
        "    BankObj = BankAccount(1,3000,'Sai')\n",
        "    while Action == True:\n",
        "      UserInputAction = input('''Hello Sai, what would you like to do today?: \n",
        "      Withdraw\n",
        "      Deposit\n",
        "      Transfer\n",
        "      History\n",
        "      Balance\n",
        "      Quit\n",
        "      Enter Action: ''').lower()\n",
        "      if UserInputAction == 'withdraw':\n",
        "        BankObj.withdraw()\n",
        "      elif UserInputAction == 'deposit':\n",
        "        BankObj.deposit()\n",
        "      elif UserInputAction == 'transfer':\n",
        "        BankObj.transfer()\n",
        "      elif UserInputAction == 'balance':\n",
        "        BankObj.get_balance()\n",
        "      elif UserInputAction == 'history':\n",
        "        BankObj.transaction()\n",
        "      elif UserInputAction == 'quit':\n",
        "        Action = False\n",
        "      else:\n",
        "        print('You did not supply a valid operation... ')\n",
        "    Identity = True\n",
        "    \n",
        "  elif UserInputName == 'q':\n",
        "    Identity = True\n",
        "  else: \n",
        "    print('You did not supply the correct user name or account number please try again')\n",
        "\n"
      ],
      "execution_count": null,
      "outputs": [
        {
          "output_type": "stream",
          "text": [
            "Your current balance: 3000\n",
            "Your new balance is 3100.0 \n",
            "\n"
          ],
          "name": "stdout"
        }
      ]
    },
    {
      "cell_type": "code",
      "metadata": {
        "colab": {
          "base_uri": "https://localhost:8080/"
        },
        "id": "RU-O1cZpSPk0",
        "outputId": "bbd96b2b-d3cb-4b48-a4fc-00e39205029f"
      },
      "source": [
        "#smaller shorter version\n",
        "class BankAccount:\n",
        "  '''\n",
        "  Attributes:\n",
        "    account_number balance name  \n",
        "    Operations: deposit withdraw get_balance transfer()\n",
        "  '''\n",
        "  def __init__(self,account_number,balance,name):\n",
        "    self.account = account_number\n",
        "    self.balance = balance\n",
        "    self.name = name\n",
        "  def deposit(self):\n",
        "    print(f'Your current balance {self.balance}')\n",
        "    depositing = float(input('How much do you want to deposit into your account?: '))\n",
        "    self.balance += depositing\n",
        "    print(f'Your new balance is: {self.balance} \\n')\n",
        "  def withdraw(self):\n",
        "    print(f'Your current balance: {self.balance}')\n",
        "    withdrawl = float(input('How much do you want to withdraw from your account?: '))\n",
        "    self.balance -= withdrawl\n",
        "    print(f'Your new balance is {self.balance} \\n')\n",
        "  def get_balance(self):\n",
        "    print(f'Your current balance is {self.balance} \\n')\n",
        "  def transfer(self):\n",
        "    pass\n",
        "\n",
        "Person1 = BankAccount(1,2000,'Sai')\n",
        "Person1.get_balance()\n",
        "Person1.withdraw()\n",
        "Person1.deposit()\n",
        "Person1.get_balance()\n",
        "\n"
      ],
      "execution_count": null,
      "outputs": [
        {
          "output_type": "stream",
          "text": [
            "Your current balance is 2000 \n",
            "\n",
            "Your current balance: 2000\n",
            "How much do you want to withdraw from your account?: 300\n",
            "Your new balance is 1700.0 \n",
            "\n",
            "Your current balance 1700.0\n",
            "How much do you want to deposit into your account?: 200\n",
            "Your new balance is: 1900.0 \n",
            "\n",
            "Your current balance is 1900.0 \n",
            "\n"
          ],
          "name": "stdout"
        }
      ]
    },
    {
      "cell_type": "code",
      "metadata": {
        "colab": {
          "base_uri": "https://localhost:8080/"
        },
        "id": "5-nQlmdtSg0D",
        "outputId": "2520dc29-84c7-4c09-d5ac-635c4e6f60d6"
      },
      "source": [
        "from pprint import pprint\n",
        "from random import randint\n",
        "class BankAccount: \n",
        "  counter = 100000\n",
        "  def __init__(self):\n",
        "    self.dictionary = {1: self.withdraw, 2:self.deposit, 3: 'quit'}\n",
        "    self.account = {99:self.createAccount, 100: 'Sai', 200: 'Rectangle'}\n",
        "    pass\n",
        "  def createAccount(self):\n",
        "    self.counter +=1\n",
        "    name = input('What is your name?: ')\n",
        "    self.account[self.counter] = name\n",
        "    print(self.counter)\n",
        "  def Act(self):\n",
        "    check = False\n",
        "    while (check == False):\n",
        "      try:\n",
        "        action = int(input(f'''What would you like to do today?: \n",
        "        1. withdraw\n",
        "        2. deposit\n",
        "        3. quit\n",
        "        Enter the corresponding number to select that action: '''))\n",
        "        print('')\n",
        "        self.dictionary[action]()\n",
        "      except:\n",
        "        if (action == 3):\n",
        "          print(\"Have a nice day!\")\n",
        "          break\n",
        "        else:\n",
        "          print('Please select a corresponding number such as 1 for withdraw')\n",
        "        \n",
        "\n",
        "  def withdraw(self):\n",
        "    float(input('How much do you want to withdraw?: '))\n",
        "  def deposit(self):\n",
        "    float(input('How much do you want to deposit?: '))\n",
        "    \n",
        "BankObj = BankAccount()\n",
        "BankObj.createAccount()\n",
        "#BankObj.Act()\n"
      ],
      "execution_count": null,
      "outputs": [
        {
          "output_type": "stream",
          "text": [
            "What is your name?: Sai\n",
            "100001\n"
          ],
          "name": "stdout"
        }
      ]
    }
  ]
}