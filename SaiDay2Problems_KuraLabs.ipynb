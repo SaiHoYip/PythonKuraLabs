{
  "nbformat": 4,
  "nbformat_minor": 0,
  "metadata": {
    "colab": {
      "name": "SaiDay2Problems_KuraLabs",
      "provenance": []
    },
    "kernelspec": {
      "name": "python3",
      "display_name": "Python 3"
    },
    "language_info": {
      "name": "python"
    }
  },
  "cells": [
    {
      "cell_type": "markdown",
      "metadata": {
        "id": "EHZJTFE_36Gp"
      },
      "source": [
        "**Class Challenges (Set One)** **Fundamentals **"
      ]
    },
    {
      "cell_type": "markdown",
      "metadata": {
        "id": "bktzR4Z94AIu"
      },
      "source": [
        "1)\n",
        "Ask for the user’s first name and display the output message\n",
        "Hello [First Name] .\n",
        "\n"
      ]
    },
    {
      "cell_type": "code",
      "metadata": {
        "id": "D1zL4j785bH8",
        "colab": {
          "base_uri": "https://localhost:8080/"
        },
        "outputId": "62247c36-1524-47c4-f48b-7f4791106c16"
      },
      "source": [
        "first_name = input('Enter first name: ')\n",
        "print(f\"Hello {first_name} \")"
      ],
      "execution_count": 2,
      "outputs": [
        {
          "output_type": "stream",
          "text": [
            "Enter first name: sai\n",
            "Hello sai \n"
          ],
          "name": "stdout"
        }
      ]
    },
    {
      "cell_type": "markdown",
      "metadata": {
        "id": "P7iZQrUL4QpW"
      },
      "source": [
        "2)\n",
        "Ask for the user’s first name and then ask for their surname and display the output message\n",
        "Hello [First Name] [Surname].\n",
        "\n",
        "\n",
        "\n",
        "\n",
        "\n",
        "\n",
        "\n",
        "\n"
      ]
    },
    {
      "cell_type": "code",
      "metadata": {
        "id": "V8luoi1c5dG7",
        "colab": {
          "base_uri": "https://localhost:8080/"
        },
        "outputId": "889d4325-78cf-4e17-94c7-ee33568a4c8a"
      },
      "source": [
        "first = input('Enter first name: ')\n",
        "sur_name = input('Enter last name: ')\n",
        "print(f'Hello {first} {sur_name}')"
      ],
      "execution_count": 3,
      "outputs": [
        {
          "output_type": "stream",
          "text": [
            "Enter first name: sai\n",
            "Enter last name: yip\n",
            "Hello sai yip\n"
          ],
          "name": "stdout"
        }
      ]
    },
    {
      "cell_type": "markdown",
      "metadata": {
        "id": "LUmlLu2v4gp2"
      },
      "source": [
        "3)\n",
        "Write code that will display the joke “What do you call a bear with no teeth?” and on the next line display the answer “A gummy bear!” Try to create it using only one line of code.\n",
        "\n"
      ]
    },
    {
      "cell_type": "code",
      "metadata": {
        "id": "qU6oaxlK5emZ",
        "colab": {
          "base_uri": "https://localhost:8080/"
        },
        "outputId": "887328ea-2fe2-4e83-c01c-e7359025d573"
      },
      "source": [
        "print('what do you call a bear with no teeth?', '\\nA gummy bear!')"
      ],
      "execution_count": 5,
      "outputs": [
        {
          "output_type": "stream",
          "text": [
            "what do you call a bear with no teeth? \n",
            "A gummy bear!\n"
          ],
          "name": "stdout"
        }
      ]
    },
    {
      "cell_type": "markdown",
      "metadata": {
        "id": "jwD8SJa54nAM"
      },
      "source": [
        "4)\n",
        "Ask the user to enter two numbers. \n",
        "Add them together and display the answer as\n",
        "The total is [answer].\n",
        "\n"
      ]
    },
    {
      "cell_type": "code",
      "metadata": {
        "id": "nLAQQCD15fAg",
        "colab": {
          "base_uri": "https://localhost:8080/"
        },
        "outputId": "d4b7a649-092f-4152-ebd7-997549004d20"
      },
      "source": [
        "a,b = input('Enter two numbers: ')\n",
        "sum = int(a) + int(b)\n",
        "print(sum)"
      ],
      "execution_count": 15,
      "outputs": [
        {
          "output_type": "stream",
          "text": [
            "Enter two numbers: 24\n",
            "6\n"
          ],
          "name": "stdout"
        }
      ]
    },
    {
      "cell_type": "markdown",
      "metadata": {
        "id": "1E7CC19l4rb5"
      },
      "source": [
        "5)\n",
        "Ask the user to enter three numbers. \n",
        "Add together the first two numbers and then multiply this total by the third. \n",
        "Display the answer as The answer is\n",
        "[answer].\n",
        "\n",
        "\n"
      ]
    },
    {
      "cell_type": "code",
      "metadata": {
        "id": "fBWCQ3FY5uVo",
        "colab": {
          "base_uri": "https://localhost:8080/"
        },
        "outputId": "c9665c2e-06dd-47e8-db49-768058fdb533"
      },
      "source": [
        "a,b,c = input('Enter three numbers: ')\n",
        "product = (int(a) + int(b))*int(c)\n",
        "print(product)"
      ],
      "execution_count": 23,
      "outputs": [
        {
          "output_type": "stream",
          "text": [
            "Enter three numbers: 234\n",
            "20\n"
          ],
          "name": "stdout"
        }
      ]
    },
    {
      "cell_type": "markdown",
      "metadata": {
        "id": "oEQpSy3Y40ML"
      },
      "source": [
        "6) \n",
        "Ask how many slices of pizza the user started with and ask how many slices\n",
        "they have eaten.\n",
        "Work out how many slices they have left and display the answer in a user friendly\n",
        "format.\n",
        "\n"
      ]
    },
    {
      "cell_type": "code",
      "metadata": {
        "id": "6AAC55oy5roU",
        "colab": {
          "base_uri": "https://localhost:8080/"
        },
        "outputId": "5a15629a-1400-46d9-a24f-39260f68b008"
      },
      "source": [
        "Pizza = int(input('How many pizza did you start with?: '))\n",
        "Slices = int(input('How many slices did you eat?: '))\n",
        "Left = Pizza - Slices\n",
        "print(Left)"
      ],
      "execution_count": 27,
      "outputs": [
        {
          "output_type": "stream",
          "text": [
            "How many pizza did you start with?: 3\n",
            "How many slices did you eat?: 2\n",
            "1\n"
          ],
          "name": "stdout"
        }
      ]
    },
    {
      "cell_type": "markdown",
      "metadata": {
        "id": "db2fa_SS46yT"
      },
      "source": [
        "7)\n",
        "Ask the user for their name and their age. \n",
        "Add 1 to their age and display the output [Name] next birthday you\n",
        "will be [new age].\n",
        "\n"
      ]
    },
    {
      "cell_type": "code",
      "metadata": {
        "id": "Hy--PVwx5m_8",
        "colab": {
          "base_uri": "https://localhost:8080/"
        },
        "outputId": "77e93228-be7a-4d54-c988-c45b5aa92123"
      },
      "source": [
        "name = input('Enter name: ')\n",
        "age = int(input('Enter age: ')) + 1\n",
        "print(f\"Hello {name} \" + f\"next birthday you will be {age}\")  \n"
      ],
      "execution_count": 28,
      "outputs": [
        {
          "output_type": "stream",
          "text": [
            "Enter name: Sai\n",
            "Enter age: 23\n",
            "Hello Sai next birthday you will be 24\n"
          ],
          "name": "stdout"
        }
      ]
    },
    {
      "cell_type": "markdown",
      "metadata": {
        "id": "wK4e2WBH5AMy"
      },
      "source": [
        "8) \n",
        "Ask for the total price of the bill, then ask how many diners there are. \n",
        "Divide the total bill by the number of diners and show how much each\n",
        "a person must pay.\n",
        "\n"
      ]
    },
    {
      "cell_type": "code",
      "metadata": {
        "id": "3tI9k_bL5oCS",
        "colab": {
          "base_uri": "https://localhost:8080/"
        },
        "outputId": "8371f768-e0d3-44c2-a927-238bd3cf7062"
      },
      "source": [
        "Bill = float(input('Total bill price: '))\n",
        "diners = int(input('How many are dining with you?: '))\n",
        "totalBill = Bill/diners\n",
        "print(f\"each person should pay {totalBill}\")"
      ],
      "execution_count": 30,
      "outputs": [
        {
          "output_type": "stream",
          "text": [
            "Total bill price: 32.30\n",
            "How many are dining with you?: 3\n",
            "each person should pay 10.766666666666666\n"
          ],
          "name": "stdout"
        }
      ]
    },
    {
      "cell_type": "markdown",
      "metadata": {
        "id": "ZQBlnJm45DaL"
      },
      "source": [
        "9)\n",
        "Write a program that will ask for a number of days and then will show how many hours, minutes and seconds are in that number of days.\n",
        "\n"
      ]
    },
    {
      "cell_type": "code",
      "metadata": {
        "id": "w01EtoO85pBm",
        "colab": {
          "base_uri": "https://localhost:8080/"
        },
        "outputId": "ddb4f45a-fab0-41ca-f608-0b32cd48d2a4"
      },
      "source": [
        "day = int(input('Number of days: '))\n",
        "seconds = 86400 * day\n",
        "hours = 24 * day\n",
        "minutes = 1440 * day\n",
        "print(f'there are a total of {seconds} seconds {hours} hours {minutes} minutes in {day} days')"
      ],
      "execution_count": 32,
      "outputs": [
        {
          "output_type": "stream",
          "text": [
            "Number of days: 3\n",
            "there are a total of 259200 seconds 72 hours 4320 minutes in 3 days\n"
          ],
          "name": "stdout"
        }
      ]
    },
    {
      "cell_type": "markdown",
      "metadata": {
        "id": "5EOuJ5W75GF_"
      },
      "source": [
        "10)\n",
        "There are 2,204 pounds in a kilogram. Ask the user to enter a weight in kilograms and convert it to pounds.\n",
        "\n"
      ]
    },
    {
      "cell_type": "code",
      "metadata": {
        "id": "nz73-SQM5ou1",
        "colab": {
          "base_uri": "https://localhost:8080/"
        },
        "outputId": "3a1c1a1b-04b7-4cb2-c7ca-dbdbcd2d2a4e"
      },
      "source": [
        "Pound = 2.204\n",
        "Kilogram = int(input('Enter your weight: '))\n",
        "conversion = Kilogram * Pound\n",
        "print(conversion)"
      ],
      "execution_count": 41,
      "outputs": [
        {
          "output_type": "stream",
          "text": [
            "Enter your weight: 100\n",
            "220.4\n"
          ],
          "name": "stdout"
        }
      ]
    },
    {
      "cell_type": "markdown",
      "metadata": {
        "id": "km3HSOtk5N5B"
      },
      "source": [
        "11) \n",
        "Task the user to enter a number over 100 and then enter a number under 10 and tell them how many times the smaller number goes into the larger number in a user-friendly format.\n"
      ]
    },
    {
      "cell_type": "code",
      "metadata": {
        "id": "sPempIqj5i79",
        "colab": {
          "base_uri": "https://localhost:8080/"
        },
        "outputId": "f8938d51-1f74-4e80-8af2-80a0c772ec54"
      },
      "source": [
        "check = True\n",
        "while (check == True):\n",
        "  over = float(input(\"Enter a number over 100: \"))\n",
        "  under = float(input(\"Enter a number under 10: \"))\n",
        "  if over > 100.00 and under < 10.00: \n",
        "    check = False\n",
        "  else:\n",
        "    check = True\n",
        "  \n",
        "howmany = over/under\n",
        "print(f'{under} goes into {over} about {howmany} times')"
      ],
      "execution_count": 40,
      "outputs": [
        {
          "output_type": "stream",
          "text": [
            "Enter a number over 100: 300\n",
            "Enter a number under 10: 4\n",
            "4.0 goes into 300.0 about 75.0 times\n"
          ],
          "name": "stdout"
        }
      ]
    },
    {
      "cell_type": "markdown",
      "metadata": {
        "id": "UydxzJKq5-Li"
      },
      "source": [
        "# Class Challenge (Set 2) If Statements \n"
      ]
    },
    {
      "cell_type": "markdown",
      "metadata": {
        "id": "SfQmyzbC6K3o"
      },
      "source": [
        "1)\n",
        "Ask for two numbers. If\n",
        "the first one is larger\n",
        "than the second, display\n",
        "the second number first\n",
        "and then the first\n",
        "number, otherwise show\n",
        "the first number first and\n",
        "then the second.\n"
      ]
    },
    {
      "cell_type": "markdown",
      "metadata": {
        "id": "LWbTEnIK6fed"
      },
      "source": [
        "2) Ask the user to enter a\n",
        "number that is under 20. If they enter a\n",
        "number that is \n",
        "20 or\n",
        "more, display the\n",
        "message “Too high”,\n",
        "otherwise display\n",
        "“Thank you”.\n"
      ]
    },
    {
      "cell_type": "markdown",
      "metadata": {
        "id": "gBy4pbDr6rB2"
      },
      "source": [
        "3) Ask the user to enter a\n",
        "number between 10 and 20\n",
        "(inclusive). If they enter a\n",
        "number within this range,\n",
        "display the message “Thank\n",
        "you”, otherwise display the\n",
        "message “Incorrect answer\"\n"
      ]
    },
    {
      "cell_type": "markdown",
      "metadata": {
        "id": "x5ujUqCI6vr4"
      },
      "source": [
        "4) Ask the user to enter their favourite colour. If they enter “red”, “RED” or\n",
        "“Red” display the message “I like red too”, otherwise display the message\n",
        "“I don’t like [colour], I prefer red”.\n"
      ]
    },
    {
      "cell_type": "markdown",
      "metadata": {
        "id": "G3ITFYxc62_r"
      },
      "source": [
        "5) Ask the user if it is raining and convert their answer to lower case\n",
        "so it doesn’t matter what case they type it in. If they answer “yes”,\n",
        "ask if it is windy. If they answer “yes” to this second question,\n",
        "display the answer “It is too windy for an umbrella”, otherwise\n",
        "display the message “Take an umbrella”. If they did not answer yes\n",
        "to the first question, display the answer “Enjoy your day”.\n"
      ]
    },
    {
      "cell_type": "markdown",
      "metadata": {
        "id": "-WF-0xkM676x"
      },
      "source": [
        "6) Ask the user’s age. If they\n",
        "are 18 or over, display the\n",
        "message “You can vote”, if\n",
        "they are aged 17, display the\n",
        "message “You can learn to\n",
        "drive”, if they are 16, display\n",
        "the message “You can buy a\n",
        "lottery ticket”, if they are\n",
        "under 16, display the\n",
        "message “You can go Trickor-\n",
        "Treating”.\n"
      ]
    },
    {
      "cell_type": "markdown",
      "metadata": {
        "id": "ipS-yOG57Bif"
      },
      "source": [
        "7) Ask the user to enter a number. If it is under 10,\n",
        "display the message “Too low”, if their number is\n",
        "between 10 and 20, display “Correct”, otherwise\n",
        "display “Too high”.\n"
      ]
    },
    {
      "cell_type": "markdown",
      "metadata": {
        "id": "ETj9m6px7Ihf"
      },
      "source": [
        "8) Ask the user to enter 1, 2 or 3. If they enter a 1, display\n",
        "the message “Thank you”, if they enter a 2, display\n",
        "“Well done”, if they enter a 3, display “Correct”. If\n",
        "they enter anything else, display “Error message”.\n",
        "\n"
      ]
    },
    {
      "cell_type": "markdown",
      "metadata": {
        "id": "9zPCMAic7X4p"
      },
      "source": [
        "9) Ask the user to enter 1, 2 or 3. If they enter a 1, display\n",
        "the message “Thank you”, if they enter a 2, display\n",
        "“Well done”, if they enter a 3, display “Correct”. If\n",
        "they enter anything else, display “Error message”."
      ]
    }
  ]
}