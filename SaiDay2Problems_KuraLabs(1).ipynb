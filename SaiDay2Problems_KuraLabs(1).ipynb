{
  "nbformat": 4,
  "nbformat_minor": 0,
  "metadata": {
    "colab": {
      "name": "SaiDay2Problems_KuraLabs",
      "provenance": [],
      "collapsed_sections": []
    },
    "kernelspec": {
      "name": "python3",
      "display_name": "Python 3"
    },
    "language_info": {
      "name": "python"
    }
  },
  "cells": [
    {
      "cell_type": "markdown",
      "metadata": {
        "id": "EHZJTFE_36Gp"
      },
      "source": [
        "**Class Challenges (Set One)** **Fundamentals **"
      ]
    },
    {
      "cell_type": "markdown",
      "metadata": {
        "id": "bktzR4Z94AIu"
      },
      "source": [
        "1)\n",
        "Ask for the user’s first name and display the output message\n",
        "Hello [First Name] .\n",
        "\n"
      ]
    },
    {
      "cell_type": "code",
      "metadata": {
        "id": "D1zL4j785bH8",
        "colab": {
          "base_uri": "https://localhost:8080/"
        },
        "outputId": "62247c36-1524-47c4-f48b-7f4791106c16"
      },
      "source": [
        "first_name = input('Enter first name: ')\n",
        "print(f\"Hello {first_name} \")"
      ],
      "execution_count": null,
      "outputs": [
        {
          "output_type": "stream",
          "text": [
            "Enter first name: sai\n",
            "Hello sai \n"
          ],
          "name": "stdout"
        }
      ]
    },
    {
      "cell_type": "markdown",
      "metadata": {
        "id": "P7iZQrUL4QpW"
      },
      "source": [
        "2)\n",
        "Ask for the user’s first name and then ask for their surname and display the output message\n",
        "Hello [First Name] [Surname].\n",
        "\n",
        "\n",
        "\n",
        "\n",
        "\n",
        "\n",
        "\n",
        "\n"
      ]
    },
    {
      "cell_type": "code",
      "metadata": {
        "id": "V8luoi1c5dG7",
        "colab": {
          "base_uri": "https://localhost:8080/"
        },
        "outputId": "889d4325-78cf-4e17-94c7-ee33568a4c8a"
      },
      "source": [
        "first = input('Enter first name: ')\n",
        "sur_name = input('Enter last name: ')\n",
        "print(f'Hello {first} {sur_name}')"
      ],
      "execution_count": null,
      "outputs": [
        {
          "output_type": "stream",
          "text": [
            "Enter first name: sai\n",
            "Enter last name: yip\n",
            "Hello sai yip\n"
          ],
          "name": "stdout"
        }
      ]
    },
    {
      "cell_type": "markdown",
      "metadata": {
        "id": "LUmlLu2v4gp2"
      },
      "source": [
        "3)\n",
        "Write code that will display the joke “What do you call a bear with no teeth?” and on the next line display the answer “A gummy bear!” Try to create it using only one line of code.\n",
        "\n"
      ]
    },
    {
      "cell_type": "code",
      "metadata": {
        "id": "qU6oaxlK5emZ",
        "colab": {
          "base_uri": "https://localhost:8080/"
        },
        "outputId": "887328ea-2fe2-4e83-c01c-e7359025d573"
      },
      "source": [
        "print('what do you call a bear with no teeth?', '\\nA gummy bear!')"
      ],
      "execution_count": null,
      "outputs": [
        {
          "output_type": "stream",
          "text": [
            "what do you call a bear with no teeth? \n",
            "A gummy bear!\n"
          ],
          "name": "stdout"
        }
      ]
    },
    {
      "cell_type": "markdown",
      "metadata": {
        "id": "jwD8SJa54nAM"
      },
      "source": [
        "4)\n",
        "Ask the user to enter two numbers. \n",
        "Add them together and display the answer as\n",
        "The total is [answer].\n",
        "\n"
      ]
    },
    {
      "cell_type": "code",
      "metadata": {
        "id": "nLAQQCD15fAg",
        "colab": {
          "base_uri": "https://localhost:8080/"
        },
        "outputId": "ddda4381-72c9-4241-f89e-58fc8421a135"
      },
      "source": [
        "a,b = input('Enter a number: '), input('Enter a second number: ')\n",
        "sum = int(a) + int(b)\n",
        "print(sum)"
      ],
      "execution_count": null,
      "outputs": [
        {
          "output_type": "stream",
          "text": [
            "Enter a number: 23\n",
            "Enter a second number: 24\n",
            "47\n"
          ],
          "name": "stdout"
        }
      ]
    },
    {
      "cell_type": "markdown",
      "metadata": {
        "id": "1E7CC19l4rb5"
      },
      "source": [
        "5)\n",
        "Ask the user to enter three numbers. \n",
        "Add together the first two numbers and then multiply this total by the third. \n",
        "Display the answer as The answer is\n",
        "[answer].\n",
        "\n",
        "\n"
      ]
    },
    {
      "cell_type": "code",
      "metadata": {
        "id": "fBWCQ3FY5uVo",
        "colab": {
          "base_uri": "https://localhost:8080/"
        },
        "outputId": "c9665c2e-06dd-47e8-db49-768058fdb533"
      },
      "source": [
        "a,b,c = input('Enter three numbers: ')\n",
        "product = (int(a) + int(b))*int(c)\n",
        "print(product)"
      ],
      "execution_count": null,
      "outputs": [
        {
          "output_type": "stream",
          "text": [
            "Enter three numbers: 234\n",
            "20\n"
          ],
          "name": "stdout"
        }
      ]
    },
    {
      "cell_type": "markdown",
      "metadata": {
        "id": "oEQpSy3Y40ML"
      },
      "source": [
        "6) \n",
        "Ask how many slices of pizza the user started with and ask how many slices\n",
        "they have eaten.\n",
        "Work out how many slices they have left and display the answer in a user friendly\n",
        "format.\n",
        "\n"
      ]
    },
    {
      "cell_type": "code",
      "metadata": {
        "id": "6AAC55oy5roU",
        "colab": {
          "base_uri": "https://localhost:8080/"
        },
        "outputId": "5a15629a-1400-46d9-a24f-39260f68b008"
      },
      "source": [
        "Pizza = int(input('How many pizza did you start with?: '))\n",
        "Slices = int(input('How many slices did you eat?: '))\n",
        "Left = Pizza - Slices\n",
        "print(Left)"
      ],
      "execution_count": null,
      "outputs": [
        {
          "output_type": "stream",
          "text": [
            "How many pizza did you start with?: 3\n",
            "How many slices did you eat?: 2\n",
            "1\n"
          ],
          "name": "stdout"
        }
      ]
    },
    {
      "cell_type": "markdown",
      "metadata": {
        "id": "db2fa_SS46yT"
      },
      "source": [
        "7)\n",
        "Ask the user for their name and their age. \n",
        "Add 1 to their age and display the output [Name] next birthday you\n",
        "will be [new age].\n",
        "\n"
      ]
    },
    {
      "cell_type": "code",
      "metadata": {
        "id": "Hy--PVwx5m_8",
        "colab": {
          "base_uri": "https://localhost:8080/"
        },
        "outputId": "77e93228-be7a-4d54-c988-c45b5aa92123"
      },
      "source": [
        "name = input('Enter name: ')\n",
        "age = int(input('Enter age: ')) + 1\n",
        "print(f\"Hello {name} \" + f\"next birthday you will be {age}\")  \n"
      ],
      "execution_count": null,
      "outputs": [
        {
          "output_type": "stream",
          "text": [
            "Enter name: Sai\n",
            "Enter age: 23\n",
            "Hello Sai next birthday you will be 24\n"
          ],
          "name": "stdout"
        }
      ]
    },
    {
      "cell_type": "markdown",
      "metadata": {
        "id": "wK4e2WBH5AMy"
      },
      "source": [
        "8) \n",
        "Ask for the total price of the bill, then ask how many diners there are. \n",
        "Divide the total bill by the number of diners and show how much each\n",
        "a person must pay.\n",
        "\n"
      ]
    },
    {
      "cell_type": "code",
      "metadata": {
        "id": "3tI9k_bL5oCS",
        "colab": {
          "base_uri": "https://localhost:8080/"
        },
        "outputId": "8371f768-e0d3-44c2-a927-238bd3cf7062"
      },
      "source": [
        "Bill = float(input('Total bill price: '))\n",
        "diners = int(input('How many are dining with you?: '))\n",
        "totalBill = Bill/diners\n",
        "print(f\"each person should pay {totalBill}\")"
      ],
      "execution_count": null,
      "outputs": [
        {
          "output_type": "stream",
          "text": [
            "Total bill price: 32.30\n",
            "How many are dining with you?: 3\n",
            "each person should pay 10.766666666666666\n"
          ],
          "name": "stdout"
        }
      ]
    },
    {
      "cell_type": "markdown",
      "metadata": {
        "id": "ZQBlnJm45DaL"
      },
      "source": [
        "9)\n",
        "Write a program that will ask for a number of days and then will show how many hours, minutes and seconds are in that number of days.\n",
        "\n"
      ]
    },
    {
      "cell_type": "code",
      "metadata": {
        "id": "w01EtoO85pBm",
        "colab": {
          "base_uri": "https://localhost:8080/"
        },
        "outputId": "ddb4f45a-fab0-41ca-f608-0b32cd48d2a4"
      },
      "source": [
        "day = int(input('Number of days: '))\n",
        "seconds = 86400 * day\n",
        "hours = 24 * day\n",
        "minutes = 1440 * day\n",
        "print(f'there are a total of {seconds} seconds {hours} hours {minutes} minutes in {day} days')"
      ],
      "execution_count": null,
      "outputs": [
        {
          "output_type": "stream",
          "text": [
            "Number of days: 3\n",
            "there are a total of 259200 seconds 72 hours 4320 minutes in 3 days\n"
          ],
          "name": "stdout"
        }
      ]
    },
    {
      "cell_type": "markdown",
      "metadata": {
        "id": "5EOuJ5W75GF_"
      },
      "source": [
        "10)\n",
        "There are 2,204 pounds in a kilogram. Ask the user to enter a weight in kilograms and convert it to pounds.\n",
        "\n"
      ]
    },
    {
      "cell_type": "code",
      "metadata": {
        "id": "nz73-SQM5ou1",
        "colab": {
          "base_uri": "https://localhost:8080/"
        },
        "outputId": "3a1c1a1b-04b7-4cb2-c7ca-dbdbcd2d2a4e"
      },
      "source": [
        "Pound = 2.204\n",
        "Kilogram = int(input('Enter your weight: '))\n",
        "conversion = Kilogram * Pound\n",
        "print(conversion)"
      ],
      "execution_count": null,
      "outputs": [
        {
          "output_type": "stream",
          "text": [
            "Enter your weight: 100\n",
            "220.4\n"
          ],
          "name": "stdout"
        }
      ]
    },
    {
      "cell_type": "markdown",
      "metadata": {
        "id": "km3HSOtk5N5B"
      },
      "source": [
        "11) \n",
        "Task the user to enter a number over 100 and then enter a number under 10 and tell them how many times the smaller number goes into the larger number in a user-friendly format.\n"
      ]
    },
    {
      "cell_type": "code",
      "metadata": {
        "id": "sPempIqj5i79",
        "colab": {
          "base_uri": "https://localhost:8080/"
        },
        "outputId": "b96a904f-50a0-4c2c-c532-c982f7e25676"
      },
      "source": [
        "check = True\n",
        "while (check == True):\n",
        "  over = float(input(\"Enter a number over 100: \"))\n",
        "  under = float(input(\"Enter a number under 10: \"))\n",
        "  if over > 100.00 and under < 10.00: \n",
        "    check = False\n",
        "  else:\n",
        "    check = True\n",
        "  \n",
        "howmany = round(over/under, 0)\n",
        "print(f'{under} goes into {over} about {howmany} times')"
      ],
      "execution_count": null,
      "outputs": [
        {
          "output_type": "stream",
          "text": [
            "Enter a number over 100: 110\n",
            "Enter a number under 10: 7\n",
            "7.0 goes into 110.0 about 16.0 times\n"
          ],
          "name": "stdout"
        }
      ]
    },
    {
      "cell_type": "code",
      "metadata": {
        "colab": {
          "base_uri": "https://localhost:8080/"
        },
        "id": "BmkUcj6r7mV-",
        "outputId": "74be54e3-bfa8-478d-eaf4-5960c731be52"
      },
      "source": [
        "5//2"
      ],
      "execution_count": null,
      "outputs": [
        {
          "output_type": "execute_result",
          "data": {
            "text/plain": [
              "2"
            ]
          },
          "metadata": {
            "tags": []
          },
          "execution_count": 47
        }
      ]
    },
    {
      "cell_type": "markdown",
      "metadata": {
        "id": "UydxzJKq5-Li"
      },
      "source": [
        "# Class Challenge (Set 2) If Statements \n"
      ]
    },
    {
      "cell_type": "markdown",
      "metadata": {
        "id": "SfQmyzbC6K3o"
      },
      "source": [
        "1)\n",
        "Ask for two numbers. If\n",
        "the first one is larger\n",
        "than the second, display\n",
        "the second number first\n",
        "and then the first\n",
        "number, otherwise show\n",
        "the first number first and\n",
        "then the second.\n"
      ]
    },
    {
      "cell_type": "code",
      "metadata": {
        "colab": {
          "base_uri": "https://localhost:8080/"
        },
        "id": "Hxgi4k4fFjLS",
        "outputId": "685f37b6-a755-4a9c-91e4-0f4c0a74c294"
      },
      "source": [
        "numb1 = int(input('Enter a numbers: ' ))\n",
        "numb2 = int(input('Enter another number: '))\n",
        "if (numb1 > numb2):\n",
        "  print(f'numb2 = {numb2} numb1 = {numb1}')\n",
        "else:\n",
        "  print(f'numb1 = {numb1} numb2 = {numb2}')"
      ],
      "execution_count": null,
      "outputs": [
        {
          "output_type": "stream",
          "text": [
            "Enter a numbers: 2\n",
            "Enter another number: 3\n",
            "numb1 = 2 numb2 = 3\n"
          ],
          "name": "stdout"
        }
      ]
    },
    {
      "cell_type": "markdown",
      "metadata": {
        "id": "LWbTEnIK6fed"
      },
      "source": [
        "2) Ask the user to enter a\n",
        "number that is under 20. If they enter a\n",
        "number that is \n",
        "20 or\n",
        "more, display the\n",
        "message “Too high”,\n",
        "otherwise display\n",
        "“Thank you”.\n"
      ]
    },
    {
      "cell_type": "code",
      "metadata": {
        "colab": {
          "base_uri": "https://localhost:8080/"
        },
        "id": "7IZgduDSNL63",
        "outputId": "67faf553-63dc-4827-f460-6cc69529c348"
      },
      "source": [
        "checker = 3\n",
        "while (checker == 3):\n",
        "  num = int(input('Enter a number under 20: '))\n",
        "  if num > 20:\n",
        "    print('Too high')\n",
        "    checker = 3\n",
        "  else:\n",
        "    print('Thank you')\n",
        "    checker = False"
      ],
      "execution_count": null,
      "outputs": [
        {
          "output_type": "stream",
          "text": [
            "Enter a number under 20: 21\n",
            "Too high\n",
            "Enter a number under 20: 19\n",
            "Thank you\n"
          ],
          "name": "stdout"
        }
      ]
    },
    {
      "cell_type": "markdown",
      "metadata": {
        "id": "gBy4pbDr6rB2"
      },
      "source": [
        "3) Ask the user to enter a\n",
        "number between 10 and 20\n",
        "(inclusive). If they enter a\n",
        "number within this range,\n",
        "display the message “Thank\n",
        "you”, otherwise display the\n",
        "message “Incorrect answer\"\n"
      ]
    },
    {
      "cell_type": "code",
      "metadata": {
        "colab": {
          "base_uri": "https://localhost:8080/"
        },
        "id": "1vh5-wEpOGy1",
        "outputId": "8c79d82d-81b0-4ae3-98e3-0860db0a1186"
      },
      "source": [
        "checker = True\n",
        "while (checker == True):\n",
        "  num = int(input('Enter a number between 10-20: '))\n",
        "  if num <= 20 and num >= 10:\n",
        "    print('Thank you')\n",
        "    checker = False\n",
        "  else:\n",
        "    print('Incorrect') brb \n",
        "    checker = True"
      ],
      "execution_count": null,
      "outputs": [
        {
          "output_type": "stream",
          "text": [
            "Enter a number between 10-20: 21\n",
            "Incorrect\n",
            "Enter a number between 10-20: 20\n",
            "Thank you\n"
          ],
          "name": "stdout"
        }
      ]
    },
    {
      "cell_type": "markdown",
      "metadata": {
        "id": "x5ujUqCI6vr4"
      },
      "source": [
        "4) Ask the user to enter their favourite colour. If they enter “red”, “RED” or\n",
        "“Red” display the message “I like red too”, otherwise display the message\n",
        "“I don’t like [colour], I prefer red”.\n"
      ]
    },
    {
      "cell_type": "code",
      "metadata": {
        "colab": {
          "base_uri": "https://localhost:8080/"
        },
        "id": "Bn87f6WXQtmB",
        "outputId": "2d44cada-e8e0-4a09-80cc-023a0d481794"
      },
      "source": [
        "fav = 'red'\n",
        "color = input('Enter your favor color: ').lower()\n",
        "if(fav.lower() == color):\n",
        "  print('I like red too!')\n",
        "else: \n",
        "  print(f\"I don't like {color}, I prefer {fav}\")"
      ],
      "execution_count": null,
      "outputs": [
        {
          "output_type": "stream",
          "text": [
            "Enter your favor color: 7\n",
            "I don't like 7, I prefer red\n"
          ],
          "name": "stdout"
        }
      ]
    },
    {
      "cell_type": "markdown",
      "metadata": {
        "id": "G3ITFYxc62_r"
      },
      "source": [
        "5) Ask the user if it is raining and convert their answer to lower case\n",
        "so it doesn’t matter what case they type it in. If they answer “yes”,\n",
        "ask if it is windy. If they answer “yes” to this second question,\n",
        "display the answer “It is too windy for an umbrella”, otherwise\n",
        "display the message “Take an umbrella”. If they did not answer yes\n",
        "to the first question, display the answer “Enjoy your day”.\n"
      ]
    },
    {
      "cell_type": "code",
      "metadata": {
        "colab": {
          "base_uri": "https://localhost:8080/"
        },
        "id": "4ZrRLfKgRte9",
        "outputId": "7830d288-fdc7-4810-9a2f-bf408edbd1cb"
      },
      "source": [
        "weather = input('Is it raining?: ').lower()\n",
        "if (weather == 'yes'):\n",
        "  windy = input ('Is it windy?: ').lower()\n",
        "  if (windy == 'yes'):\n",
        "    print('It is too windy for an umbrella.')\n",
        "  elif (windy == 'no'):\n",
        "    print('Take an umbrella')\n",
        "  else: \n",
        "    \"I don't know what you mean enter yes or no.\"\n",
        "else:\n",
        "  print(\"Enjoy your day!\")"
      ],
      "execution_count": null,
      "outputs": [
        {
          "output_type": "stream",
          "text": [
            "Is it raining?: yes\n",
            "Is it windy?: yes\n",
            "It is too windy for an umbrella.\n"
          ],
          "name": "stdout"
        }
      ]
    },
    {
      "cell_type": "markdown",
      "metadata": {
        "id": "-WF-0xkM676x"
      },
      "source": [
        "6) Ask the user’s age. If they\n",
        "are 18 or over, display the\n",
        "message “You can vote”, if\n",
        "they are aged 17, display the\n",
        "message “You can learn to\n",
        "drive”, if they are 16, display\n",
        "the message “You can buy a\n",
        "lottery ticket”, if they are\n",
        "under 16, display the\n",
        "message “You can go Trickor-\n",
        "Treating”.\n"
      ]
    },
    {
      "cell_type": "code",
      "metadata": {
        "colab": {
          "base_uri": "https://localhost:8080/"
        },
        "id": "xH3W4rcGR59V",
        "outputId": "f31794d9-4ef5-4c0a-d7a1-b480ffff4d26"
      },
      "source": [
        "age = int(input('Are you 18 or over?: '))\n",
        "if (age >= 18):\n",
        "  print('You can vote')\n",
        "elif (age == 17):\n",
        "  print('You can learn to drive!')\n",
        "elif (age == 16):\n",
        "  print('You can buy a lottery ticket')\n",
        "else: \n",
        "  print('You can go trick-or-treating!')"
      ],
      "execution_count": null,
      "outputs": [
        {
          "output_type": "stream",
          "text": [
            "Are you 18 or over?: 14\n",
            "You can go trick-or-treating!\n"
          ],
          "name": "stdout"
        }
      ]
    },
    {
      "cell_type": "markdown",
      "metadata": {
        "id": "ipS-yOG57Bif"
      },
      "source": [
        "7) Ask the user to enter a number. If it is under 10,\n",
        "display the message “Too low”, if their number is\n",
        "between 10 and 20, display “Correct”, otherwise\n",
        "display “Too high”.\n"
      ]
    },
    {
      "cell_type": "code",
      "metadata": {
        "colab": {
          "base_uri": "https://localhost:8080/"
        },
        "id": "F1mPv5H8R6l8",
        "outputId": "cd95913a-0563-487a-9a58-aecd5ba9b311"
      },
      "source": [
        "condition = True\n",
        "while (condition == True):\n",
        "  num = int(input('Enter a number: '))\n",
        "  if(num < 10):\n",
        "    print('Too low...')\n",
        "  elif(num >= 10 and num <= 20):\n",
        "    print('Correct!')\n",
        "    condition = False\n",
        "  else:\n",
        "    print('Too high')"
      ],
      "execution_count": null,
      "outputs": [
        {
          "output_type": "stream",
          "text": [
            "Enter a number: 30\n",
            "Too high\n",
            "Enter a number: 8\n",
            "Too low...\n",
            "Enter a number: 15\n",
            "Correct!\n"
          ],
          "name": "stdout"
        }
      ]
    },
    {
      "cell_type": "markdown",
      "metadata": {
        "id": "ETj9m6px7Ihf"
      },
      "source": [
        "8) Ask the user to enter 1, 2 or 3. If they enter a 1, display\n",
        "the message “Thank you”, if they enter a 2, display\n",
        "“Well done”, if they enter a 3, display “Correct”. If\n",
        "they enter anything else, display “Error message”.\n",
        "\n"
      ]
    },
    {
      "cell_type": "code",
      "metadata": {
        "colab": {
          "base_uri": "https://localhost:8080/"
        },
        "id": "07yKKiIoR84M",
        "outputId": "ccdce976-bcfe-4a0e-f5f2-e534f738a1ad"
      },
      "source": [
        "condition = True\n",
        "while (condition == True):\n",
        "  num = input('Enter 1, 2, or 3: ')\n",
        "  if(num == '1'):\n",
        "    print('Thank you')\n",
        "    condition = False\n",
        "  elif(num == '2'):\n",
        "    print('Well done')\n",
        "    condition = False\n",
        "  elif(num == '3'):\n",
        "    print('Correct')\n",
        "    condition = False\n",
        "  else:\n",
        "    print('Error message')"
      ],
      "execution_count": null,
      "outputs": [
        {
          "output_type": "stream",
          "text": [
            "Enter 1, 2, or 3: 4\n",
            "Error message\n",
            "Enter 1, 2, or 3: r\n",
            "Error message\n",
            "Enter 1, 2, or 3: 3\n",
            "Correct\n"
          ],
          "name": "stdout"
        }
      ]
    },
    {
      "cell_type": "markdown",
      "metadata": {
        "id": "9zPCMAic7X4p"
      },
      "source": [
        "9) Ask the user to enter 1, 2 or 3. If they enter a 1, display\n",
        "the message “Thank you”, if they enter a 2, display\n",
        "“Well done”, if they enter a 3, display “Correct”. If\n",
        "they enter anything else, display “Error message”."
      ]
    },
    {
      "cell_type": "code",
      "metadata": {
        "colab": {
          "base_uri": "https://localhost:8080/"
        },
        "id": "9pCnrEYbR9id",
        "outputId": "4561755a-5e0a-4248-dd5a-70849ed0323b"
      },
      "source": [
        "condition = True\n",
        "while (condition == True):\n",
        "  num = int(input('Enter 1, 2, or 3: '))\n",
        "  if(num == 1):\n",
        "    print('Thank you')\n",
        "    condition = False\n",
        "  elif(num == 2):\n",
        "    print('Well done')\n",
        "    condition = False\n",
        "  elif(num == 3):\n",
        "    print('Correct')\n",
        "    condition = False\n",
        "  else:\n",
        "    print('Error message')"
      ],
      "execution_count": null,
      "outputs": [
        {
          "output_type": "stream",
          "text": [
            "Enter 1, 2, or 3: 4\n",
            "Error message\n",
            "Enter 1, 2, or 3: 2\n",
            "Well done\n"
          ],
          "name": "stdout"
        }
      ]
    },
    {
      "cell_type": "code",
      "metadata": {
        "colab": {
          "base_uri": "https://localhost:8080/"
        },
        "id": "JGqBlMU_0QmW",
        "outputId": "c1c5637a-068f-4602-86b6-31c9052089a8"
      },
      "source": [
        "while int(input(\"Enter a number under 20: \")) > 20:\n",
        "  print(\"Too High\")\n",
        "print(\"Thank you\")"
      ],
      "execution_count": null,
      "outputs": [
        {
          "output_type": "stream",
          "text": [
            "Enter a number under 20: 22\n",
            "Too High\n",
            "Enter a number under 20: 1\n",
            "Thank you\n"
          ],
          "name": "stdout"
        }
      ]
    }
  ]
}